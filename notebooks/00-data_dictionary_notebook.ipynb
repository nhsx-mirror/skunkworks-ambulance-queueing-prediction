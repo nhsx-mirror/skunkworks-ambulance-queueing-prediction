{
 "cells": [
  {
   "cell_type": "markdown",
   "id": "1b984f3c",
   "metadata": {},
   "source": [
    "## This notebook contains the data dictionary for the data used in the modelling:\n",
    "___"
   ]
  },
  {
   "cell_type": "markdown",
   "id": "0b8ec093",
   "metadata": {},
   "source": [
    "### Below is the data dictionary of the columns used in the `Assignments data`:"
   ]
  },
  {
   "cell_type": "markdown",
   "id": "0d016389",
   "metadata": {},
   "source": [
    "| Assignments Column | Description |\n",
    "| ------------------- | ----------------- |\n",
    "| num_1| The case reference number | \n",
    "| Hospital_Name| The name of the hospital |\n",
    "| Time_Destination| The time at which the ambulance reaches the hospital |\n",
    "| Time_Handover| The time at which handover takes place at the hospital |\n",
    "| Time_Clear| The time at which the ambulance is cleaned and ready for the next case |\n",
    "| Patients_Transported| The number of patients transported in the ambulance |\n",
    "| Crew1_Skill | The ambulance crew skill level |\n",
    "| Crew2_Skill | The ambulance crew skill level |\n",
    "| Crew3_Skill | The ambulance crew skill level |\n",
    "| Dest_Easting | The coordinates of the destination |\n",
    "| Dest_Northing | The coordinates of the destination |\n"
   ]
  },
  {
   "cell_type": "markdown",
   "id": "85424e2f",
   "metadata": {},
   "source": [
    "### Below is the data dictionary of the columns used in the `Incidents data`:"
   ]
  },
  {
   "cell_type": "markdown",
   "id": "4c71c85c",
   "metadata": {},
   "source": [
    "| Incidents Colum | Description |\n",
    "| ------------------- | ----------------- |\n",
    "| num_1 | The case reference number (the common key to map the rows to their corresponding row in the assignment dataset) |\n",
    "| Age Band | The age band which the patient being transported falls into |\n",
    "| responding_priority | The responding priority assigned to the case by the ambulance |"
   ]
  },
  {
   "cell_type": "markdown",
   "id": "f03cbac0",
   "metadata": {},
   "source": [
    "### Below is the data dictionary of the columns used in the `PTS data`:"
   ]
  },
  {
   "cell_type": "markdown",
   "id": "00966074",
   "metadata": {},
   "source": [
    "| PTS Column | Description |\n",
    "| ------------------- | ----------------- |\n",
    "| From Hospital | The hospital from which the patient is getting discharged/transferred |\n",
    "| To Hospital | The hospital to which the patient is getting admitted/transferred |\n",
    "| Direction | Whether the patient is going into or coming out from a hospital |\n",
    "| Journey Pick Up Time | The time at which the patient is picked up for the journey |\n",
    "| Journey Drop Off Time | The time at which the patient is dropped at their destination |\n",
    "| Reason for Transfer | The reason why the patient is being transferred |"
   ]
  },
  {
   "cell_type": "markdown",
   "id": "29c27dfc",
   "metadata": {},
   "source": [
    "## END of notebook.\n",
    "___\n",
    "___"
   ]
  }
 ],
 "metadata": {
  "kernelspec": {
   "display_name": "bays-c359",
   "language": "python",
   "name": "bays-c359"
  },
  "language_info": {
   "codemirror_mode": {
    "name": "ipython",
    "version": 3
   },
   "file_extension": ".py",
   "mimetype": "text/x-python",
   "name": "python",
   "nbconvert_exporter": "python",
   "pygments_lexer": "ipython3",
   "version": "3.9.12"
  }
 },
 "nbformat": 4,
 "nbformat_minor": 5
}
